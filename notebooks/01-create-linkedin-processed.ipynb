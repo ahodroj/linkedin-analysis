{
 "cells": [
  {
   "cell_type": "markdown",
   "metadata": {},
   "source": [
    "#### Initialize Spark with Delta"
   ]
  },
  {
   "cell_type": "code",
   "execution_count": null,
   "metadata": {},
   "outputs": [],
   "source": [
    "from delta import * \n",
    "import os \n",
    "import pyspark\n",
    "import pyspark.sql.functions as F\n",
    "\n",
    "conf = (\n",
    "        pyspark.conf.SparkConf()\n",
    "        .setAppName(\"LinkedIn Processor 3\")\n",
    "        .set(\n",
    "            \"spark.sql.catalog.spark_catalog\",\n",
    "            \"org.apache.spark.sql.delta.catalog.DeltaCatalog\"\n",
    "        )\n",
    "        .set(\"spark.sql.extensions\", \"io.delta.sql.DeltaSparkSessionExtension\")\n",
    "        .set(\"spark.hadoop.fs.s3a.endpoint\", \"http://minio:9000\")\n",
    "        .set(\"spark.hadoop.fs.s3a.access.key\", \"minio\")\n",
    "        .set(\"spark.hadoop.fs.s3a.secret.key\", \"minio123\")\n",
    "        .set(\"spark.hadoop.fs.s3a.path.style.access\", \"true\")\n",
    "        .set(\"spark.sql.shuffle.partitions\", \"4\")\n",
    "\n",
    "        .setMaster(\n",
    "            \"spark://spark-master:7077\"\n",
    "        )\n",
    "    )\n",
    "\n",
    "extra_packages = [    \"org.apache.hadoop:hadoop-aws:3.3.4\",    \"org.apache.hadoop:hadoop-common:3.3.4\",    \"com.amazonaws:aws-java-sdk-bundle:1.12.262\",]\n",
    "    \n",
    "builder = pyspark.sql.SparkSession.builder.appName(\"LinkedInProcessor\").config(conf=conf)\n",
    "spark = configure_spark_with_delta_pip(\n",
    "    builder, extra_packages=extra_packages\n",
    ").getOrCreate()\n"
   ]
  },
  {
   "cell_type": "code",
   "execution_count": null,
   "metadata": {},
   "outputs": [],
   "source": [
    "spark"
   ]
  },
  {
   "cell_type": "markdown",
   "metadata": {},
   "source": [
    "#### Create invitations table"
   ]
  },
  {
   "cell_type": "code",
   "execution_count": 3,
   "metadata": {},
   "outputs": [
    {
     "name": "stderr",
     "output_type": "stream",
     "text": [
      "24/09/06 12:58:48 WARN MetricsConfig: Cannot locate configuration: tried hadoop-metrics2-s3a-file-system.properties,hadoop-metrics2.properties\n",
      "24/09/06 12:58:54 WARN SparkStringUtils: Truncated the string representation of a plan since it was too large. This behavior can be adjusted by setting 'spark.sql.debug.maxToStringFields'.\n",
      "                                                                                \r"
     ]
    }
   ],
   "source": [
    "invitations = spark.read.option(\"header\", \"true\").csv(\"s3a://raw/linkedin/Invitations.csv\")\n",
    "invitations = spark.read.option(\"header\", \"true\").csv(\"s3a://raw/linkedin/Invitations.csv\")\n",
    "invitations = invitations.withColumnRenamed(\"From\", \"sender\")\\\n",
    "                          .withColumnRenamed(\"To\", \"recipient\")\\\n",
    "                          .withColumnRenamed(\"Sent At\", \"sent_at\")\\\n",
    "                          .withColumnRenamed(\"Message\", \"message\")\\\n",
    "                          .withColumnRenamed(\"Direction\", \"direction\")\\\n",
    "                          .withColumnRenamed(\"inviterProfileUrl\", \"sender_profile_url\")\\\n",
    "                          .withColumnRenamed(\"inviteeProfileUrl\", \"recipient_profile_url\")\n",
    "  \n",
    "invitations.write.format(\"delta\").mode(\"overwrite\").save(\"s3a://processed/linkedin/invitations\")\n"
   ]
  },
  {
   "cell_type": "markdown",
   "metadata": {},
   "source": [
    "#### Messages"
   ]
  },
  {
   "cell_type": "code",
   "execution_count": 4,
   "metadata": {},
   "outputs": [
    {
     "name": "stderr",
     "output_type": "stream",
     "text": [
      "                                                                                \r"
     ]
    }
   ],
   "source": [
    "messages = spark.read.option(\"header\", \"true\").csv(\"s3a://raw/linkedin/messages.csv\")\n",
    "messages = messages.drop('CONVERSATION ID')\n",
    "\n",
    "messages = messages.withColumnRenamed(\"CONVERSATION TITLE\", \"conversation_title\")\\\n",
    "    .withColumnRenamed(\"FROM\", \"sender\")\\\n",
    "    .withColumnRenamed(\"SENDER PROFILE URL\", \"sender_profile_url\")\\\n",
    "    .withColumnRenamed(\"RECIPIENT PROFILE URLS\", \"recipient_profile_url\")\\\n",
    "    .withColumnRenamed(\"SUBJECT\", \"subject\")\\\n",
    "    .withColumnRenamed(\"CONTENT\", \"content\")\\\n",
    "    .withColumnRenamed(\"FOLDER\", \"folder\")\\\n",
    "    .withColumnRenamed(\"TO\", \"recipient\")\\\n",
    "    .withColumnRenamed(\"DATE\", \"date\")\n",
    "\n",
    "\n",
    "messages.write.format(\"delta\").mode(\"overwrite\").save(\"s3a://processed/linkedin/messages\")\n",
    "  "
   ]
  },
  {
   "cell_type": "markdown",
   "metadata": {},
   "source": [
    "#### Connections"
   ]
  },
  {
   "cell_type": "code",
   "execution_count": 5,
   "metadata": {},
   "outputs": [],
   "source": [
    "df = spark.read \\\n",
    "    .option(\"header\", \"true\") \\\n",
    "    .csv('s3a://raw/linkedin/Connections.csv')\n",
    " \n",
    "df = df.withColumnRenamed(\"First Name\", \"first_name\")\\\n",
    "    .withColumnRenamed(\"Last Name\", \"last_name\")\\\n",
    "    .withColumnRenamed(\"Email Address\", \"email\")\\\n",
    "    .withColumnRenamed(\"Company\", \"company\")\\\n",
    "    .withColumnRenamed(\"Position\", \"position\")\\\n",
    "    .withColumnRenamed(\"Connected On\", \"connected_on\")\\\n",
    "    .withColumnRenamed(\"URL\", \"profile_url\")\n",
    "  \n",
    "df = df.withColumn(\n",
    "    \"full_name\",\n",
    "    F.concat(\"first_name\", F.lit(\" \"), \"last_name\")\n",
    "  )\n",
    "\n",
    "df.write.format(\"delta\").mode(\"overwrite\").save(\"s3a://processed/linkedin/connections\")\n"
   ]
  }
 ],
 "metadata": {
  "kernelspec": {
   "display_name": "Python 3 (ipykernel)",
   "language": "python",
   "name": "python3"
  }
 },
 "nbformat": 4,
 "nbformat_minor": 2
}
